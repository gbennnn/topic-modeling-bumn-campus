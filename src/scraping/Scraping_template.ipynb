{
 "cells": [
  {
   "cell_type": "markdown",
   "metadata": {},
   "source": [
    "# **Scraping | *Kampus...........***"
   ]
  },
  {
   "cell_type": "markdown",
   "metadata": {},
   "source": [
    "## Prerequists"
   ]
  },
  {
   "cell_type": "markdown",
   "metadata": {},
   "source": [
    "**Modul yang harus diinstall:**<br>\n",
    "`serpapi` : Untuk mengambil data dari Google Search Engine<br>\n",
    "`google-search-results` : Untuk mengambil data dari Google Search Engine<br>\n",
    "`pandas` : Untuk menyimpan hasil scraping ke csv\n",
    "\n",
    "**Cara menginstall:**\n",
    "```bash\n",
    "pip install serpapi\n",
    "pip install google-search-results\n",
    "pip install pandas\n",
    "```"
   ]
  },
  {
   "cell_type": "code",
   "execution_count": 11,
   "metadata": {},
   "outputs": [],
   "source": [
    "# API_KEY= \n",
    "# Target scraping: \n",
    "# Site: \n",
    "# Data id: "
   ]
  },
  {
   "cell_type": "code",
   "execution_count": 12,
   "metadata": {},
   "outputs": [],
   "source": [
    "# import the necessary libraries\n",
    "from serpapi import GoogleSearch\n",
    "from urllib.parse import urlsplit, parse_qsl\n",
    "import json\n",
    "import pandas as pd\n",
    "import os"
   ]
  },
  {
   "cell_type": "code",
   "execution_count": null,
   "metadata": {},
   "outputs": [],
   "source": [
    "# define the API key and data id\n",
    "API_KEY = \"\"\n",
    "data_id = \"\" # place id data located inside Google Maps Place URL: located inside `data=` query parameter.\n",
    "\n",
    "# define the output directory and file name\n",
    "output_dir = \"../../dataset\"\n",
    "output_name = \"\"\n",
    "\n",
    "# define the search parameters\n",
    "params = {\n",
    "  \"api_key\": API_KEY,                                 # serpapi api key\n",
    "  \"engine\": \"google_maps_reviews\",                    # serpapi search engine\n",
    "  \"hl\": \"id\",                                         # language of the search\n",
    "  \"data_id\": data_id  # place id data located inside Google Maps Place URL: located inside `data=` query parameter. \n",
    "}\n",
    "\n",
    "# search for the reviews\n",
    "search = GoogleSearch(params)\n",
    "\n",
    "# create an empty list to store the reviews\n",
    "reviews = []\n",
    "\n",
    "# loop through the pages to extract the reviews\n",
    "page_num = 0\n",
    "while True:\n",
    "    page_num += 1\n",
    "    try:\n",
    "        results = search.get_dict()\n",
    "    except ConnectionError as e:\n",
    "        print(f\"Connection error: {e}\")\n",
    "        continue\n",
    "    if \"error\" not in results:\n",
    "        print(f\"Extracting reviews from {page_num} page.\")\n",
    "\n",
    "    if not \"error\" in results:\n",
    "        for result in results.get(\"reviews\", []): # return an empty list [] if no reviews from the place\n",
    "            reviews.append({\n",
    "                \"page\": page_num,\n",
    "                \"name\": result.get(\"user\").get(\"name\"),\n",
    "                \"link\": result.get(\"user\").get(\"link\"),\n",
    "                \"thumbnail\": result.get(\"user\").get(\"thumbnail\"),\n",
    "                \"rating\": result.get(\"rating\"),\n",
    "                \"date\": result.get(\"date\"),\n",
    "                \"snippet\": result.get(\"snippet\"),\n",
    "                \"images\": result.get(\"images\"),\n",
    "                \"local_guide\": result.get(\"user\").get(\"local_guide\"),\n",
    "                # other data\n",
    "            })\n",
    "    else:\n",
    "        print(results[\"error\"])\n",
    "        break\n",
    "\n",
    "    serpapi_pagination = results.get(\"serpapi_pagination\")\n",
    "    if serpapi_pagination and serpapi_pagination.get(\"next\") and serpapi_pagination.get(\"next_page_token\"):\n",
    "        # split URL in parts as a dict and update search \"params\" variable to a new page that will be passed to GoogleSearch()\n",
    "        search.params_dict.update(dict(parse_qsl(urlsplit(serpapi_pagination[\"next\"]).query)))\n",
    "    else:\n",
    "        break\n",
    "\n",
    "    \n",
    "print(json.dumps(reviews, indent=2, ensure_ascii=False))\n",
    "df = pd.DataFrame(reviews)\n",
    "# Ensure the directory exists\n",
    "os.makedirs(output_dir, exist_ok=True)\n",
    "\n",
    "# Save the dataframe to a CSV file\n",
    "df.to_csv(os.path.join(output_dir, output_name), index=False)"
   ]
  }
 ],
 "metadata": {
  "kernelspec": {
   "display_name": "Python 3",
   "language": "python",
   "name": "python3"
  },
  "language_info": {
   "codemirror_mode": {
    "name": "ipython",
    "version": 3
   },
   "file_extension": ".py",
   "mimetype": "text/x-python",
   "name": "python",
   "nbconvert_exporter": "python",
   "pygments_lexer": "ipython3",
   "version": "3.13.0"
  }
 },
 "nbformat": 4,
 "nbformat_minor": 2
}
